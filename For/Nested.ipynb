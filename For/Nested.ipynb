{
 "cells": [
  {
   "cell_type": "code",
   "execution_count": 1,
   "id": "6f718c05",
   "metadata": {},
   "outputs": [
    {
     "name": "stdout",
     "output_type": "stream",
     "text": [
      "Outer loop executing\n",
      "1\n",
      "Inner loop executing\n",
      "10\n",
      "Inner loop executing\n",
      "11\n",
      "Outer loop Completed\n",
      "Outer loop executing\n",
      "2\n",
      "Inner loop executing\n",
      "10\n",
      "Inner loop executing\n",
      "11\n",
      "Outer loop Completed\n"
     ]
    }
   ],
   "source": [
    "for val1 in range(1,3):\n",
    "    print('Outer loop executing')\n",
    "    print(val1)\n",
    "    for val2 in range(10,12):\n",
    "        print('Inner loop executing')\n",
    "        print(val2)\n",
    "    print(\"Outer loop Completed\")"
   ]
  },
  {
   "cell_type": "code",
   "execution_count": 2,
   "id": "cab75b37",
   "metadata": {},
   "outputs": [
    {
     "name": "stdout",
     "output_type": "stream",
     "text": [
      "1 2\n",
      "1 3\n",
      "1 4\n",
      "1 5\n",
      "1 6\n",
      "2 3\n",
      "2 4\n",
      "2 5\n",
      "2 6\n",
      "3 4\n",
      "3 5\n",
      "3 6\n",
      "4 5\n",
      "4 6\n",
      "5 6\n"
     ]
    }
   ],
   "source": [
    "for val1 in range(1,6):\n",
    "    for val2 in range(val1+1,7):\n",
    "        print(val1,val2)"
   ]
  },
  {
   "cell_type": "code",
   "execution_count": 3,
   "id": "073ba751",
   "metadata": {},
   "outputs": [
    {
     "name": "stdout",
     "output_type": "stream",
     "text": [
      "a\n",
      "a\n",
      "b\n",
      "c\n",
      "d\n",
      "b\n",
      "a\n",
      "b\n",
      "c\n",
      "d\n",
      "c\n",
      "a\n",
      "b\n",
      "c\n",
      "d\n",
      "d\n",
      "a\n",
      "b\n",
      "c\n",
      "d\n"
     ]
    }
   ],
   "source": [
    "S='abcd'\n",
    "for ch1 in S:\n",
    "    print(ch1)\n",
    "    for ch2 in S:\n",
    "        print(ch2)"
   ]
  },
  {
   "cell_type": "code",
   "execution_count": null,
   "id": "d51355d8",
   "metadata": {},
   "outputs": [],
   "source": []
  }
 ],
 "metadata": {
  "kernelspec": {
   "display_name": "base",
   "language": "python",
   "name": "python3"
  },
  "language_info": {
   "codemirror_mode": {
    "name": "ipython",
    "version": 3
   },
   "file_extension": ".py",
   "mimetype": "text/x-python",
   "name": "python",
   "nbconvert_exporter": "python",
   "pygments_lexer": "ipython3",
   "version": "3.13.5"
  }
 },
 "nbformat": 4,
 "nbformat_minor": 5
}
