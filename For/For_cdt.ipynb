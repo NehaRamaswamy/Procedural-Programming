{
 "cells": [
  {
   "cell_type": "markdown",
   "id": "9626b0f5",
   "metadata": {},
   "source": [
    "### Write a program to print each string characters using for loop"
   ]
  },
  {
   "cell_type": "code",
   "execution_count": 1,
   "id": "ca39bd64",
   "metadata": {},
   "outputs": [
    {
     "name": "stdout",
     "output_type": "stream",
     "text": [
      "s\n",
      "Iteration Done\n",
      "u\n",
      "Iteration Done\n",
      "n\n",
      "Iteration Done\n",
      "d\n",
      "Iteration Done\n",
      "a\n",
      "Iteration Done\n",
      "y\n",
      "Iteration Done\n",
      "For loop Complete\n"
     ]
    }
   ],
   "source": [
    "s='sunday'\n",
    "for str in s:\n",
    "    print(str)\n",
    "    print('Iteration Done')\n",
    "print('For loop Complete')"
   ]
  },
  {
   "cell_type": "markdown",
   "id": "298b5933",
   "metadata": {},
   "source": [
    "### Write program using the list by for loop"
   ]
  },
  {
   "cell_type": "code",
   "execution_count": 3,
   "id": "1017410b",
   "metadata": {},
   "outputs": [
    {
     "name": "stdout",
     "output_type": "stream",
     "text": [
      "6\n",
      "abcd\n",
      "7\n",
      "False\n",
      "[77, 45, 'abc']\n"
     ]
    }
   ],
   "source": [
    "L=[6,'abcd',7,False,[77,45,'abc']]\n",
    "\n",
    "for ele in L:\n",
    "    print(ele)"
   ]
  },
  {
   "cell_type": "markdown",
   "id": "80d83d99",
   "metadata": {},
   "source": [
    "### Write a program using set by for loop"
   ]
  },
  {
   "cell_type": "code",
   "execution_count": 5,
   "id": "2e31a716",
   "metadata": {},
   "outputs": [
    {
     "name": "stdout",
     "output_type": "stream",
     "text": [
      "False\n",
      "3.4\n",
      "12\n",
      "absc\n"
     ]
    }
   ],
   "source": [
    "S={12,'absc',3.4,False}\n",
    "for ele in S:\n",
    "    print(ele)"
   ]
  },
  {
   "cell_type": "markdown",
   "id": "c836bbf7",
   "metadata": {},
   "source": [
    "### Write a program using Dictionary by for loop"
   ]
  },
  {
   "cell_type": "code",
   "execution_count": 2,
   "id": "b61b8d13",
   "metadata": {},
   "outputs": [
    {
     "name": "stdout",
     "output_type": "stream",
     "text": [
      "a\n",
      "s\n",
      "n\n"
     ]
    }
   ],
   "source": [
    "dict={'a':5,'s':10,'n':9}\n",
    "for key in dict:\n",
    "    print(key)"
   ]
  },
  {
   "cell_type": "markdown",
   "id": "2e6b6ac7",
   "metadata": {},
   "source": [
    "### Write a program to print values from dictionary."
   ]
  },
  {
   "cell_type": "code",
   "execution_count": 5,
   "id": "03aa5507",
   "metadata": {},
   "outputs": [
    {
     "name": "stdout",
     "output_type": "stream",
     "text": [
      "5\n",
      "10\n",
      "9\n",
      "5\n",
      "10\n",
      "9\n"
     ]
    }
   ],
   "source": [
    "for value in dict.values():\n",
    "    print(value)\n",
    "for key in dict:\n",
    "    print(dict[key])"
   ]
  },
  {
   "cell_type": "markdown",
   "id": "2b36b132",
   "metadata": {},
   "source": []
  }
 ],
 "metadata": {
  "kernelspec": {
   "display_name": "base",
   "language": "python",
   "name": "python3"
  },
  "language_info": {
   "codemirror_mode": {
    "name": "ipython",
    "version": 3
   },
   "file_extension": ".py",
   "mimetype": "text/x-python",
   "name": "python",
   "nbconvert_exporter": "python",
   "pygments_lexer": "ipython3",
   "version": "3.13.5"
  }
 },
 "nbformat": 4,
 "nbformat_minor": 5
}
