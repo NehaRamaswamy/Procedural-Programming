{
 "cells": [
  {
   "cell_type": "markdown",
   "id": "776a5880",
   "metadata": {},
   "source": [
    "### Write a for loop using range() for 1 to 4"
   ]
  },
  {
   "cell_type": "code",
   "execution_count": 1,
   "id": "31a8ce1a",
   "metadata": {},
   "outputs": [
    {
     "name": "stdout",
     "output_type": "stream",
     "text": [
      "1\n",
      "2\n",
      "3\n",
      "4\n",
      "4\n"
     ]
    }
   ],
   "source": [
    "for val in range(1,5):\n",
    "    print(val)\n",
    "print(val)"
   ]
  },
  {
   "cell_type": "code",
   "execution_count": 2,
   "id": "5f24c47c",
   "metadata": {},
   "outputs": [
    {
     "name": "stdout",
     "output_type": "stream",
     "text": [
      "1 2 3 4 "
     ]
    }
   ],
   "source": [
    "for val in range(1,5):\n",
    "    print(val,end= ' ')"
   ]
  },
  {
   "cell_type": "markdown",
   "id": "a2622b6b",
   "metadata": {},
   "source": [
    "### Write a program to print numbers from -1 to -10 in single line using for loop"
   ]
  },
  {
   "cell_type": "code",
   "execution_count": 3,
   "id": "82dbd2e0",
   "metadata": {},
   "outputs": [
    {
     "name": "stdout",
     "output_type": "stream",
     "text": [
      "-1 -2 -3 -4 -5 -6 -7 -8 -9 -10 "
     ]
    }
   ],
   "source": [
    "for val in range(-1,-11,-1):\n",
    "    print(val,end=' ')"
   ]
  }
 ],
 "metadata": {
  "kernelspec": {
   "display_name": "base",
   "language": "python",
   "name": "python3"
  },
  "language_info": {
   "codemirror_mode": {
    "name": "ipython",
    "version": 3
   },
   "file_extension": ".py",
   "mimetype": "text/x-python",
   "name": "python",
   "nbconvert_exporter": "python",
   "pygments_lexer": "ipython3",
   "version": "3.13.5"
  }
 },
 "nbformat": 4,
 "nbformat_minor": 5
}
