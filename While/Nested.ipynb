{
 "cells": [
  {
   "cell_type": "code",
   "execution_count": 3,
   "id": "602ff3f7",
   "metadata": {},
   "outputs": [
    {
     "name": "stdout",
     "output_type": "stream",
     "text": [
      "10\n",
      "0\n",
      "1\n",
      "2\n",
      "11\n",
      "0\n",
      "1\n",
      "2\n",
      "12\n",
      "0\n",
      "1\n",
      "2\n",
      "13\n",
      "0\n",
      "1\n",
      "2\n"
     ]
    }
   ],
   "source": [
    "val1=10\n",
    "while val1!=14:\n",
    "    print(val1)\n",
    "    val2=0\n",
    "    while val2!=3:\n",
    "        print(val2)\n",
    "        val2+=1\n",
    "    val1+=1"
   ]
  },
  {
   "cell_type": "code",
   "execution_count": null,
   "id": "7d1adf48",
   "metadata": {},
   "outputs": [],
   "source": []
  }
 ],
 "metadata": {
  "kernelspec": {
   "display_name": "base",
   "language": "python",
   "name": "python3"
  },
  "language_info": {
   "codemirror_mode": {
    "name": "ipython",
    "version": 3
   },
   "file_extension": ".py",
   "mimetype": "text/x-python",
   "name": "python",
   "nbconvert_exporter": "python",
   "pygments_lexer": "ipython3",
   "version": "3.13.5"
  }
 },
 "nbformat": 4,
 "nbformat_minor": 5
}
