{
 "cells": [
  {
   "cell_type": "markdown",
   "id": "9e02c3af",
   "metadata": {},
   "source": [
    "### Write a program to print the number 1 to 5 using while loop."
   ]
  },
  {
   "cell_type": "code",
   "execution_count": 1,
   "id": "3b630d2c",
   "metadata": {},
   "outputs": [
    {
     "name": "stdout",
     "output_type": "stream",
     "text": [
      "1\n",
      "2\n",
      "3\n",
      "4\n",
      "5\n"
     ]
    }
   ],
   "source": [
    "num = 1\n",
    "while  num < 6:\n",
    "    print(num)\n",
    "    num += 1"
   ]
  },
  {
   "cell_type": "markdown",
   "id": "6c09266e",
   "metadata": {},
   "source": [
    "### Write a program to print every character from string using while loop."
   ]
  },
  {
   "cell_type": "code",
   "execution_count": 4,
   "id": "cdafd178",
   "metadata": {},
   "outputs": [
    {
     "name": "stdout",
     "output_type": "stream",
     "text": [
      "S\n",
      "u\n",
      "n\n",
      "d\n",
      "a\n",
      "y\n"
     ]
    }
   ],
   "source": [
    "S='Sunday'\n",
    "val = 0\n",
    "while  val != len(S):\n",
    "    print(S[val])\n",
    "    val += 1"
   ]
  },
  {
   "cell_type": "code",
   "execution_count": null,
   "id": "cbe01b50",
   "metadata": {},
   "outputs": [],
   "source": []
  }
 ],
 "metadata": {
  "kernelspec": {
   "display_name": "base",
   "language": "python",
   "name": "python3"
  },
  "language_info": {
   "codemirror_mode": {
    "name": "ipython",
    "version": 3
   },
   "file_extension": ".py",
   "mimetype": "text/x-python",
   "name": "python",
   "nbconvert_exporter": "python",
   "pygments_lexer": "ipython3",
   "version": "3.13.5"
  }
 },
 "nbformat": 4,
 "nbformat_minor": 5
}
