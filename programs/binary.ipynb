{
 "cells": [
  {
   "cell_type": "code",
   "execution_count": 4,
   "id": "17f95230",
   "metadata": {},
   "outputs": [
    {
     "name": "stdout",
     "output_type": "stream",
     "text": [
      "11011\n"
     ]
    }
   ],
   "source": [
    "num=27\n",
    "binary=0\n",
    "pos=1\n",
    "\n",
    "while num!=0:\n",
    "    rem = num % 2\n",
    "    binary += rem * pos\n",
    "    num //= 2\n",
    "    pos *= 10\n",
    "\n",
    "print(f'{binary}')\n"
   ]
  },
  {
   "cell_type": "code",
   "execution_count": null,
   "id": "f16e7717",
   "metadata": {},
   "outputs": [],
   "source": []
  }
 ],
 "metadata": {
  "kernelspec": {
   "display_name": "base",
   "language": "python",
   "name": "python3"
  },
  "language_info": {
   "codemirror_mode": {
    "name": "ipython",
    "version": 3
   },
   "file_extension": ".py",
   "mimetype": "text/x-python",
   "name": "python",
   "nbconvert_exporter": "python",
   "pygments_lexer": "ipython3",
   "version": "3.13.5"
  }
 },
 "nbformat": 4,
 "nbformat_minor": 5
}
