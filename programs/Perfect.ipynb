{
 "cells": [
  {
   "cell_type": "markdown",
   "id": "3febd574",
   "metadata": {},
   "source": [
    "### Perfect number is a number when its factors addition gave the same sum as original number."
   ]
  },
  {
   "cell_type": "code",
   "execution_count": null,
   "id": "c4f4e86c",
   "metadata": {},
   "outputs": [
    {
     "name": "stdout",
     "output_type": "stream",
     "text": [
      "6 is perfect number\n"
     ]
    }
   ],
   "source": [
    "num = 6\n",
    "res=0\n",
    "for val in range(1,num//2+1):  #range(1,num)\n",
    "    if num%val==0:\n",
    "        res+=val\n",
    "if num==res:\n",
    "    print(f'{num} is perfect number')\n",
    "else:\n",
    "    print(f'{num} is not perfect number')"
   ]
  },
  {
   "cell_type": "code",
   "execution_count": null,
   "id": "9cb1a265",
   "metadata": {},
   "outputs": [],
   "source": []
  }
 ],
 "metadata": {
  "kernelspec": {
   "display_name": "base",
   "language": "python",
   "name": "python3"
  },
  "language_info": {
   "codemirror_mode": {
    "name": "ipython",
    "version": 3
   },
   "file_extension": ".py",
   "mimetype": "text/x-python",
   "name": "python",
   "nbconvert_exporter": "python",
   "pygments_lexer": "ipython3",
   "version": "3.13.5"
  }
 },
 "nbformat": 4,
 "nbformat_minor": 5
}
