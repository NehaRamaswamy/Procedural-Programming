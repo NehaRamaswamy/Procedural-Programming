{
 "cells": [
  {
   "cell_type": "code",
   "execution_count": 1,
   "id": "33799a2f",
   "metadata": {},
   "outputs": [
    {
     "name": "stdout",
     "output_type": "stream",
     "text": [
      "19 is happy number\n"
     ]
    }
   ],
   "source": [
    "num = 19\n",
    "temp = num\n",
    "\n",
    "while num >= 10:\n",
    "    total = 0\n",
    "    while num != 0:\n",
    "        rem = num % 10\n",
    "        total += rem ** 2\n",
    "        num //= 10\n",
    "    num = total\n",
    "\n",
    "if num == 1 or num == 7:\n",
    "    print(f'{temp} is happy number')\n",
    "else:\n",
    "    print(f'{temp} is not happy number')\n"
   ]
  },
  {
   "cell_type": "code",
   "execution_count": null,
   "id": "2d3160ec",
   "metadata": {},
   "outputs": [],
   "source": []
  }
 ],
 "metadata": {
  "kernelspec": {
   "display_name": "base",
   "language": "python",
   "name": "python3"
  },
  "language_info": {
   "codemirror_mode": {
    "name": "ipython",
    "version": 3
   },
   "file_extension": ".py",
   "mimetype": "text/x-python",
   "name": "python",
   "nbconvert_exporter": "python",
   "pygments_lexer": "ipython3",
   "version": "3.13.5"
  }
 },
 "nbformat": 4,
 "nbformat_minor": 5
}
