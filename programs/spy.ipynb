{
 "cells": [
  {
   "cell_type": "code",
   "execution_count": 1,
   "id": "8b0d8619",
   "metadata": {},
   "outputs": [
    {
     "name": "stdout",
     "output_type": "stream",
     "text": [
      "Spy number\n"
     ]
    }
   ],
   "source": [
    "num=123\n",
    "Sum=0\n",
    "product=1\n",
    "\n",
    "while num!=0:\n",
    "    rem=num%10\n",
    "    Sum+=rem\n",
    "    product*=rem\n",
    "    num//=10\n",
    "if Sum==product:\n",
    "    print('Spy number')\n",
    "else:\n",
    "    print('Not spy number')\n"
   ]
  },
  {
   "cell_type": "code",
   "execution_count": null,
   "id": "44d1fdec",
   "metadata": {},
   "outputs": [],
   "source": []
  }
 ],
 "metadata": {
  "kernelspec": {
   "display_name": "base",
   "language": "python",
   "name": "python3"
  },
  "language_info": {
   "codemirror_mode": {
    "name": "ipython",
    "version": 3
   },
   "file_extension": ".py",
   "mimetype": "text/x-python",
   "name": "python",
   "nbconvert_exporter": "python",
   "pygments_lexer": "ipython3",
   "version": "3.13.5"
  }
 },
 "nbformat": 4,
 "nbformat_minor": 5
}
