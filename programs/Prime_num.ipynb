{
 "cells": [
  {
   "cell_type": "markdown",
   "id": "cfb991ae",
   "metadata": {},
   "source": [
    "### Write a program to check given number is prime or not."
   ]
  },
  {
   "cell_type": "code",
   "execution_count": 1,
   "id": "eb8e220f",
   "metadata": {},
   "outputs": [
    {
     "name": "stdout",
     "output_type": "stream",
     "text": [
      "11 is prime number\n"
     ]
    }
   ],
   "source": [
    "num = 11\n",
    "count = 0\n",
    "for val in range(1,num+1):\n",
    "    if num % val == 0:\n",
    "        count += 1\n",
    "\n",
    "if count == 2:\n",
    "    print(f'{num} is prime number')\n",
    "else:\n",
    "    print(f'{num} is not prime number')\n",
    "    \n",
    "\n"
   ]
  },
  {
   "cell_type": "code",
   "execution_count": 4,
   "id": "fdfa313e",
   "metadata": {},
   "outputs": [
    {
     "name": "stdout",
     "output_type": "stream",
     "text": [
      "31 is a prime number\n"
     ]
    }
   ],
   "source": [
    "num = 31\n",
    "count = 0\n",
    "val = 1\n",
    "\n",
    "while val != num +1:\n",
    "    if num % val == 0:\n",
    "        count += 1\n",
    "    val += 1\n",
    "\n",
    "if count == 2:\n",
    "    print(f'{num} is a prime number')\n",
    "else:\n",
    "    print(f'{num} is not a prime number')\n"
   ]
  },
  {
   "cell_type": "code",
   "execution_count": null,
   "id": "77afb5bd",
   "metadata": {},
   "outputs": [],
   "source": []
  }
 ],
 "metadata": {
  "kernelspec": {
   "display_name": "base",
   "language": "python",
   "name": "python3"
  },
  "language_info": {
   "codemirror_mode": {
    "name": "ipython",
    "version": 3
   },
   "file_extension": ".py",
   "mimetype": "text/x-python",
   "name": "python",
   "nbconvert_exporter": "python",
   "pygments_lexer": "ipython3",
   "version": "3.13.5"
  }
 },
 "nbformat": 4,
 "nbformat_minor": 5
}
