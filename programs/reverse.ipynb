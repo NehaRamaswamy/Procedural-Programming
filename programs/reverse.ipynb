{
 "cells": [
  {
   "cell_type": "code",
   "execution_count": 2,
   "id": "d34882a2",
   "metadata": {},
   "outputs": [
    {
     "name": "stdout",
     "output_type": "stream",
     "text": [
      "Reverse the number 432\n"
     ]
    }
   ],
   "source": [
    "num = 234\n",
    "rev = 0\n",
    "pow = len(str(num))-1\n",
    "while num != 0:\n",
    "    rem = num % 10\n",
    "    power = 10 ** pow\n",
    "    pow -= 1\n",
    "    rev += rem * power\n",
    "    num //= 10\n",
    "\n",
    "print('Reverse the number',rev)"
   ]
  },
  {
   "cell_type": "code",
   "execution_count": null,
   "id": "706ae46d",
   "metadata": {},
   "outputs": [],
   "source": []
  }
 ],
 "metadata": {
  "kernelspec": {
   "display_name": "base",
   "language": "python",
   "name": "python3"
  },
  "language_info": {
   "codemirror_mode": {
    "name": "ipython",
    "version": 3
   },
   "file_extension": ".py",
   "mimetype": "text/x-python",
   "name": "python",
   "nbconvert_exporter": "python",
   "pygments_lexer": "ipython3",
   "version": "3.13.5"
  }
 },
 "nbformat": 4,
 "nbformat_minor": 5
}
