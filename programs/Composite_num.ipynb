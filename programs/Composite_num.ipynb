{
 "cells": [
  {
   "cell_type": "markdown",
   "id": "4d8d133b",
   "metadata": {},
   "source": [
    "### Write a program to check the given number is composite number or not(it has more than two factors)."
   ]
  },
  {
   "cell_type": "code",
   "execution_count": 1,
   "id": "bd05d4fa",
   "metadata": {},
   "outputs": [
    {
     "name": "stdout",
     "output_type": "stream",
     "text": [
      "8 is a composite number\n"
     ]
    }
   ],
   "source": [
    "num = 8\n",
    "count = 0\n",
    "for val in range(1, num+1):\n",
    "    if num % val == 0:\n",
    "        count += 1\n",
    "if count > 2:\n",
    "    print(f'{num} is a composite number')\n",
    "else:\n",
    "    print(f'{num} is not a composite number')"
   ]
  },
  {
   "cell_type": "code",
   "execution_count": 3,
   "id": "5c85bc5e",
   "metadata": {},
   "outputs": [
    {
     "name": "stdout",
     "output_type": "stream",
     "text": [
      "12 is a composite number\n"
     ]
    }
   ],
   "source": [
    "num = 12\n",
    "count = 0\n",
    "val = 1\n",
    "while val != num+1:\n",
    "    if num % val == 0 :\n",
    "        count += 1\n",
    "    val += 1\n",
    "if count > 2:\n",
    "    print(f'{num} is a composite number')\n",
    "else:\n",
    "    print(f'{num} is not a composite number')"
   ]
  },
  {
   "cell_type": "code",
   "execution_count": null,
   "id": "564ea87b",
   "metadata": {},
   "outputs": [],
   "source": []
  }
 ],
 "metadata": {
  "kernelspec": {
   "display_name": "base",
   "language": "python",
   "name": "python3"
  },
  "language_info": {
   "codemirror_mode": {
    "name": "ipython",
    "version": 3
   },
   "file_extension": ".py",
   "mimetype": "text/x-python",
   "name": "python",
   "nbconvert_exporter": "python",
   "pygments_lexer": "ipython3",
   "version": "3.13.5"
  }
 },
 "nbformat": 4,
 "nbformat_minor": 5
}
