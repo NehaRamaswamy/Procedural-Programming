{
 "cells": [
  {
   "cell_type": "code",
   "execution_count": 4,
   "id": "5ba4bce6",
   "metadata": {},
   "outputs": [
    {
     "name": "stdout",
     "output_type": "stream",
     "text": [
      "153 is a armstrong number\n"
     ]
    }
   ],
   "source": [
    "num=153\n",
    "temp=num\n",
    "power=len(str(num))\n",
    "Sum=0\n",
    "while num!=0:\n",
    "    Sum+= (num%10)**power\n",
    "    num//=10\n",
    "\n",
    "if Sum==temp:\n",
    "    print(f\"{temp} is a armstrong number\")\n",
    "else:\n",
    "    print(f\"{temp} is not a armstrong number\")"
   ]
  },
  {
   "cell_type": "code",
   "execution_count": null,
   "id": "a2c38458",
   "metadata": {},
   "outputs": [],
   "source": []
  }
 ],
 "metadata": {
  "kernelspec": {
   "display_name": "base",
   "language": "python",
   "name": "python3"
  },
  "language_info": {
   "codemirror_mode": {
    "name": "ipython",
    "version": 3
   },
   "file_extension": ".py",
   "mimetype": "text/x-python",
   "name": "python",
   "nbconvert_exporter": "python",
   "pygments_lexer": "ipython3",
   "version": "3.13.5"
  }
 },
 "nbformat": 4,
 "nbformat_minor": 5
}
