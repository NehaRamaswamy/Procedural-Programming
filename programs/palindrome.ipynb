{
 "cells": [
  {
   "cell_type": "code",
   "execution_count": 2,
   "id": "134aa798",
   "metadata": {},
   "outputs": [
    {
     "name": "stdout",
     "output_type": "stream",
     "text": [
      "121 is the panlidrome number\n"
     ]
    }
   ],
   "source": [
    "num = 121\n",
    "dup = num\n",
    "power = 10 ** (len(str(num))-1)\n",
    "rev = 0\n",
    "while num!=0:\n",
    "    rem = num%10\n",
    "    rev += rem * power\n",
    "    power //= 10\n",
    "    num //= 10\n",
    "if rev == dup:\n",
    "    print(f'{dup} is the panlidrome number')\n",
    "else:\n",
    "    print(f'{dup} is not a plaindrome number')"
   ]
  },
  {
   "cell_type": "code",
   "execution_count": null,
   "id": "75b811c3",
   "metadata": {},
   "outputs": [],
   "source": []
  }
 ],
 "metadata": {
  "kernelspec": {
   "display_name": "base",
   "language": "python",
   "name": "python3"
  },
  "language_info": {
   "codemirror_mode": {
    "name": "ipython",
    "version": 3
   },
   "file_extension": ".py",
   "mimetype": "text/x-python",
   "name": "python",
   "nbconvert_exporter": "python",
   "pygments_lexer": "ipython3",
   "version": "3.13.5"
  }
 },
 "nbformat": 4,
 "nbformat_minor": 5
}
