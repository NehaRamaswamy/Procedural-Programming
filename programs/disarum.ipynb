{
 "cells": [
  {
   "cell_type": "code",
   "execution_count": 1,
   "id": "b6bd3d79",
   "metadata": {},
   "outputs": [
    {
     "name": "stdout",
     "output_type": "stream",
     "text": [
      "135 is a Disarum number\n"
     ]
    }
   ],
   "source": [
    "num=135\n",
    "temp=num\n",
    "Sum=0\n",
    "power=len(str(num))\n",
    "\n",
    "while num!=0:\n",
    "    rem=num%10\n",
    "    Sum+=rem**power\n",
    "    power-=1\n",
    "    num//=10\n",
    "if Sum==temp:\n",
    "    print(temp,\"is a Disarum number\")\n",
    "else:\n",
    "    print(temp,\"is not a Disarum number\")"
   ]
  },
  {
   "cell_type": "code",
   "execution_count": null,
   "id": "03fe75e4",
   "metadata": {},
   "outputs": [],
   "source": []
  }
 ],
 "metadata": {
  "kernelspec": {
   "display_name": "base",
   "language": "python",
   "name": "python3"
  },
  "language_info": {
   "codemirror_mode": {
    "name": "ipython",
    "version": 3
   },
   "file_extension": ".py",
   "mimetype": "text/x-python",
   "name": "python",
   "nbconvert_exporter": "python",
   "pygments_lexer": "ipython3",
   "version": "3.13.5"
  }
 },
 "nbformat": 4,
 "nbformat_minor": 5
}
