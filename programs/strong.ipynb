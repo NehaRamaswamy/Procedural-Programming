{
 "cells": [
  {
   "cell_type": "code",
   "execution_count": 3,
   "id": "88c7df33",
   "metadata": {},
   "outputs": [
    {
     "name": "stdout",
     "output_type": "stream",
     "text": [
      "145 is a strong number\n"
     ]
    }
   ],
   "source": [
    "# strong number take the factors of each number and add factors if sum of factors is equal to original number\n",
    "\n",
    "num=145\n",
    "dup=num\n",
    "\n",
    "sum_fact=0\n",
    "\n",
    "while num!=0:\n",
    "    rem=num%10\n",
    "    fact=1\n",
    "    for val in range(1,rem+1):\n",
    "        fact *= val\n",
    "    sum_fact+= fact\n",
    "    num //= 10\n",
    "\n",
    "if sum_fact == dup:\n",
    "    print(f'{dup} is a strong number')\n",
    "else:\n",
    "    print(f'{dup} is not strong number')"
   ]
  },
  {
   "cell_type": "code",
   "execution_count": null,
   "id": "9847f6b4",
   "metadata": {},
   "outputs": [],
   "source": []
  }
 ],
 "metadata": {
  "kernelspec": {
   "display_name": "base",
   "language": "python",
   "name": "python3"
  },
  "language_info": {
   "codemirror_mode": {
    "name": "ipython",
    "version": 3
   },
   "file_extension": ".py",
   "mimetype": "text/x-python",
   "name": "python",
   "nbconvert_exporter": "python",
   "pygments_lexer": "ipython3",
   "version": "3.13.5"
  }
 },
 "nbformat": 4,
 "nbformat_minor": 5
}
