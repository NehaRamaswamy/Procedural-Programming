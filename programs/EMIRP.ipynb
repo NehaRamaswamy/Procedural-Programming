{
 "cells": [
  {
   "cell_type": "code",
   "execution_count": 7,
   "id": "0250014f",
   "metadata": {},
   "outputs": [
    {
     "name": "stdout",
     "output_type": "stream",
     "text": [
      "13 is EMIRP number\n"
     ]
    }
   ],
   "source": [
    "# 1. Number should not be palindrome\n",
    "# 2. Number should be prime number\n",
    "# 3. Reverse of number should be prime\n",
    "\n",
    "num = 13\n",
    "temp = num\n",
    "count = 0\n",
    "for val in range(1, num + 1):\n",
    "    if num % val == 0:\n",
    "        count += 1\n",
    "\n",
    "if count == 2:\n",
    "\n",
    "    rev = 0\n",
    "    while num != 0:\n",
    "        rem = num % 10\n",
    "        rev = rev * 10 + rem\n",
    "        num //= 10\n",
    "    \n",
    "    if rev != temp:\n",
    "        count1 = 0\n",
    "        for val1 in range(1, rev + 1):\n",
    "            if rev % val1 == 0:\n",
    "                count1 += 1\n",
    "        if count1 == 2:\n",
    "            print(f'{temp} is EMIRP number') \n",
    "        else:\n",
    "            print(f'{temp} is not EMIRP number') \n",
    "    else:\n",
    "        print(f'{temp} is not EMIRP number')\n",
    "else:\n",
    "    print(f'{num} is not EMIRP number')"
   ]
  },
  {
   "cell_type": "code",
   "execution_count": null,
   "id": "a5d29c99",
   "metadata": {},
   "outputs": [],
   "source": []
  }
 ],
 "metadata": {
  "kernelspec": {
   "display_name": "base",
   "language": "python",
   "name": "python3"
  },
  "language_info": {
   "codemirror_mode": {
    "name": "ipython",
    "version": 3
   },
   "file_extension": ".py",
   "mimetype": "text/x-python",
   "name": "python",
   "nbconvert_exporter": "python",
   "pygments_lexer": "ipython3",
   "version": "3.13.5"
  }
 },
 "nbformat": 4,
 "nbformat_minor": 5
}
