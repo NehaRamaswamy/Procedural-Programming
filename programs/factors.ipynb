{
 "cells": [
  {
   "cell_type": "markdown",
   "id": "2074b894",
   "metadata": {},
   "source": [
    "### Write a pprogram to print the factors for a given number"
   ]
  },
  {
   "cell_type": "code",
   "execution_count": 1,
   "id": "d7008ca8",
   "metadata": {},
   "outputs": [
    {
     "name": "stdout",
     "output_type": "stream",
     "text": [
      "1\n",
      "2\n",
      "3\n",
      "6\n"
     ]
    }
   ],
   "source": [
    "num = 6\n",
    "for val in range(1,num+1):\n",
    "    if num % val == 0:\n",
    "        print(val)"
   ]
  },
  {
   "cell_type": "code",
   "execution_count": 4,
   "id": "f1db9158",
   "metadata": {},
   "outputs": [
    {
     "name": "stdout",
     "output_type": "stream",
     "text": [
      "1\n",
      "2\n",
      "3\n",
      "6\n"
     ]
    }
   ],
   "source": [
    "num = 6\n",
    "val = 1\n",
    "while val != num+1 :\n",
    "    if num % val == 0:\n",
    "        print(val)\n",
    "    val+=1\n"
   ]
  },
  {
   "cell_type": "code",
   "execution_count": null,
   "id": "96f1acb7",
   "metadata": {},
   "outputs": [],
   "source": []
  }
 ],
 "metadata": {
  "kernelspec": {
   "display_name": "base",
   "language": "python",
   "name": "python3"
  },
  "language_info": {
   "codemirror_mode": {
    "name": "ipython",
    "version": 3
   },
   "file_extension": ".py",
   "mimetype": "text/x-python",
   "name": "python",
   "nbconvert_exporter": "python",
   "pygments_lexer": "ipython3",
   "version": "3.13.5"
  }
 },
 "nbformat": 4,
 "nbformat_minor": 5
}
