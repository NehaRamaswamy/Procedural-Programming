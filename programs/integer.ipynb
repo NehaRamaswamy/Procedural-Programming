{
 "cells": [
  {
   "cell_type": "code",
   "execution_count": 1,
   "id": "0c8828c4",
   "metadata": {},
   "outputs": [
    {
     "name": "stdout",
     "output_type": "stream",
     "text": [
      "27\n"
     ]
    }
   ],
   "source": [
    "num=11011\n",
    "Sum=0\n",
    "pos=0\n",
    "\n",
    "while num!=0:\n",
    "    rem=num%10\n",
    "    Sum+= rem*(2**pos)\n",
    "    pos+=1\n",
    "    num //=10\n",
    "print(Sum)"
   ]
  },
  {
   "cell_type": "code",
   "execution_count": null,
   "id": "efc0d9fb",
   "metadata": {},
   "outputs": [],
   "source": []
  }
 ],
 "metadata": {
  "kernelspec": {
   "display_name": "base",
   "language": "python",
   "name": "python3"
  },
  "language_info": {
   "codemirror_mode": {
    "name": "ipython",
    "version": 3
   },
   "file_extension": ".py",
   "mimetype": "text/x-python",
   "name": "python",
   "nbconvert_exporter": "python",
   "pygments_lexer": "ipython3",
   "version": "3.13.5"
  }
 },
 "nbformat": 4,
 "nbformat_minor": 5
}
