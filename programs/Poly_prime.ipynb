{
 "cells": [
  {
   "cell_type": "code",
   "execution_count": 5,
   "id": "83a6e8c5",
   "metadata": {},
   "outputs": [
    {
     "name": "stdout",
     "output_type": "stream",
     "text": [
      "11 is palyprime\n"
     ]
    }
   ],
   "source": [
    "#the number should be palindrome and prime number\n",
    "\n",
    "num = 11\n",
    "count = 0\n",
    "for val in range(1, num + 1):\n",
    "    if num % val == 0:\n",
    "        count += 1\n",
    "\n",
    "if count == 2:\n",
    "    temp = num\n",
    "    rev = 0\n",
    "    while num != 0:\n",
    "        rem = num % 10\n",
    "        rev = rev * 10 + rem\n",
    "        num //= 10\n",
    "\n",
    "    if rev == temp:\n",
    "        print(f'{temp} is palyprime') \n",
    "    else:\n",
    "        print(f'{temp} is not palyprime') \n",
    "else:\n",
    "    print(f'{num} is not palyprime')"
   ]
  },
  {
   "cell_type": "code",
   "execution_count": null,
   "id": "a4b1eea0",
   "metadata": {},
   "outputs": [],
   "source": []
  }
 ],
 "metadata": {
  "kernelspec": {
   "display_name": "base",
   "language": "python",
   "name": "python3"
  },
  "language_info": {
   "codemirror_mode": {
    "name": "ipython",
    "version": 3
   },
   "file_extension": ".py",
   "mimetype": "text/x-python",
   "name": "python",
   "nbconvert_exporter": "python",
   "pygments_lexer": "ipython3",
   "version": "3.13.5"
  }
 },
 "nbformat": 4,
 "nbformat_minor": 5
}
