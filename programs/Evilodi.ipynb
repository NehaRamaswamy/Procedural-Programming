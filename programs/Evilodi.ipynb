{
 "cells": [
  {
   "cell_type": "code",
   "execution_count": 3,
   "id": "d50ef4dd",
   "metadata": {},
   "outputs": [
    {
     "name": "stdout",
     "output_type": "stream",
     "text": [
      "Evil\n"
     ]
    }
   ],
   "source": [
    "num=11011\n",
    "count=0\n",
    "\n",
    "while num!=0:\n",
    "    rem=num%10\n",
    "    if rem==1:\n",
    "        count+=1\n",
    "    num=num//10\n",
    "\n",
    "if count%2==0:\n",
    "    print(\"Evil\")\n",
    "else:\n",
    "    print(\"Odieous\")"
   ]
  },
  {
   "cell_type": "code",
   "execution_count": null,
   "id": "8a42062b",
   "metadata": {},
   "outputs": [],
   "source": []
  }
 ],
 "metadata": {
  "kernelspec": {
   "display_name": "base",
   "language": "python",
   "name": "python3"
  },
  "language_info": {
   "codemirror_mode": {
    "name": "ipython",
    "version": 3
   },
   "file_extension": ".py",
   "mimetype": "text/x-python",
   "name": "python",
   "nbconvert_exporter": "python",
   "pygments_lexer": "ipython3",
   "version": "3.13.5"
  }
 },
 "nbformat": 4,
 "nbformat_minor": 5
}
