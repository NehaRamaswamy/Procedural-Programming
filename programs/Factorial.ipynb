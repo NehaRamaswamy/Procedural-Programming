{
 "cells": [
  {
   "cell_type": "markdown",
   "id": "cfb547cf",
   "metadata": {},
   "source": [
    "### Write a program to print the factorial of a number."
   ]
  },
  {
   "cell_type": "code",
   "execution_count": null,
   "id": "121bbd7c",
   "metadata": {},
   "outputs": [
    {
     "name": "stdout",
     "output_type": "stream",
     "text": [
      "Factorial of 5 is 120\n"
     ]
    }
   ],
   "source": [
    "num = 5\n",
    "if num >= 0:\n",
    "    fact = 1\n",
    "    for val in range(1,num+1):\n",
    "        fact *= val\n",
    "    print(f'Factorial of {num} is {fact}')\n",
    "else:\n",
    "    print(f'Not a factorial')"
   ]
  },
  {
   "cell_type": "code",
   "execution_count": 6,
   "id": "d075f153",
   "metadata": {},
   "outputs": [
    {
     "name": "stdout",
     "output_type": "stream",
     "text": [
      "Factorial of 4 is 24\n"
     ]
    }
   ],
   "source": [
    "num = 4\n",
    "fact = 1\n",
    "val = 1\n",
    "while  val != num+1:\n",
    "    fact *= val\n",
    "    val += 1\n",
    "print(f'Factorial of {num} is {fact}')"
   ]
  },
  {
   "cell_type": "code",
   "execution_count": 1,
   "id": "428be873",
   "metadata": {},
   "outputs": [
    {
     "name": "stdout",
     "output_type": "stream",
     "text": [
      "24\n"
     ]
    }
   ],
   "source": [
    "num = 4\n",
    "fact = 1\n",
    "while num != 0:\n",
    "    fact  *= num\n",
    "    num -= 1\n",
    "print(fact)"
   ]
  },
  {
   "cell_type": "code",
   "execution_count": null,
   "id": "5f633a5e",
   "metadata": {},
   "outputs": [],
   "source": []
  }
 ],
 "metadata": {
  "kernelspec": {
   "display_name": "base",
   "language": "python",
   "name": "python3"
  },
  "language_info": {
   "codemirror_mode": {
    "name": "ipython",
    "version": 3
   },
   "file_extension": ".py",
   "mimetype": "text/x-python",
   "name": "python",
   "nbconvert_exporter": "python",
   "pygments_lexer": "ipython3",
   "version": "3.13.5"
  }
 },
 "nbformat": 4,
 "nbformat_minor": 5
}
