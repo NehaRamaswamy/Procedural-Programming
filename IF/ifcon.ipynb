{
 "cells": [
  {
   "cell_type": "markdown",
   "id": "619f5ef0",
   "metadata": {},
   "source": [
    "### Print the given number if it is greater than 100."
   ]
  },
  {
   "cell_type": "code",
   "execution_count": 4,
   "id": "4e564991",
   "metadata": {},
   "outputs": [
    {
     "name": "stdout",
     "output_type": "stream",
     "text": [
      "Number is greater than 100\n"
     ]
    }
   ],
   "source": [
    "num = int( input(\" Enter the Number \"))\n",
    "\n",
    "if num > 100 :\n",
    "    print(\"Number is greater than 100\")\n"
   ]
  },
  {
   "cell_type": "markdown",
   "id": "71df8dc7",
   "metadata": {},
   "source": [
    "### Print the given number is odd or even"
   ]
  },
  {
   "cell_type": "code",
   "execution_count": null,
   "id": "ccd46431",
   "metadata": {},
   "outputs": [
    {
     "name": "stdout",
     "output_type": "stream",
     "text": [
      "The 31 is odd\n"
     ]
    }
   ],
   "source": [
    "num = int( input(\"Enter the number\"))\n",
    "if num % 2 == 0 :\n",
    "    print(f'The {num} is even')\n",
    "else:\n",
    "    print(f\"The {num} is odd\")"
   ]
  },
  {
   "cell_type": "code",
   "execution_count": null,
   "id": "a994f9e7",
   "metadata": {},
   "outputs": [
    {
     "name": "stdout",
     "output_type": "stream",
     "text": [
      "The 21 is odd number\n"
     ]
    }
   ],
   "source": [
    "num = int(input(\"Enter the number\"))\n",
    "if num % 2 == 1 :\n",
    "    print(f'The {num} is odd number')\n",
    "else:\n",
    "    print(f'The {num} is even number')"
   ]
  },
  {
   "cell_type": "markdown",
   "id": "fded18b4",
   "metadata": {},
   "source": [
    "### Write a program to check the number is divisible by 2 & 3"
   ]
  },
  {
   "cell_type": "code",
   "execution_count": null,
   "id": "a5aecf0f",
   "metadata": {},
   "outputs": [
    {
     "name": "stdout",
     "output_type": "stream",
     "text": [
      "6 is divisible by 2 and 3\n"
     ]
    }
   ],
   "source": [
    "num = 6\n",
    "\n",
    "if num % 2 == 0 :\n",
    "    print(f'{num} is divisible by 2 and 3')\n",
    "else:\n",
    "    print(f'{num} is not divisible by 2 and 3')"
   ]
  },
  {
   "cell_type": "markdown",
   "id": "6e7b8105",
   "metadata": {},
   "source": [
    "### Write a program to compare 2 number and print the highest"
   ]
  },
  {
   "cell_type": "code",
   "execution_count": null,
   "id": "8008b550",
   "metadata": {},
   "outputs": [
    {
     "name": "stdout",
     "output_type": "stream",
     "text": [
      "12 is highest\n"
     ]
    }
   ],
   "source": [
    "num1 = 12 \n",
    "num2 = 8\n",
    "if num1 > num2 :\n",
    "    print(f'{num1} is highest')\n",
    "else:\n",
    "    print(f'{num2} is highest')"
   ]
  },
  {
   "cell_type": "markdown",
   "id": "0c9e14f1",
   "metadata": {},
   "source": [
    "### Write a program to find the highest value in given 3 numbers."
   ]
  },
  {
   "cell_type": "code",
   "execution_count": 13,
   "id": "9ceb40f8",
   "metadata": {},
   "outputs": [
    {
     "name": "stdout",
     "output_type": "stream",
     "text": [
      "9 is highest\n"
     ]
    }
   ],
   "source": [
    "num1 = 7\n",
    "num2 = 9 \n",
    "num3 = 5\n",
    "\n",
    "if num1 > num2 :\n",
    "    if num1 > num3 :\n",
    "        print(f'{num1} is highest')\n",
    "    else:\n",
    "        print(f'{num3} is highest')\n",
    "else:\n",
    "    if num2 > num3 :\n",
    "        print(f'{num2} is highest')\n",
    "    else:\n",
    "        print(f'{num3} is highest')"
   ]
  },
  {
   "cell_type": "markdown",
   "id": "ca022d47",
   "metadata": {},
   "source": [
    "### Write a program to find the least value in given 3 numbers."
   ]
  },
  {
   "cell_type": "code",
   "execution_count": 14,
   "id": "210a3403",
   "metadata": {},
   "outputs": [
    {
     "name": "stdout",
     "output_type": "stream",
     "text": [
      "5 is the least number\n"
     ]
    }
   ],
   "source": [
    "num1 = 7\n",
    "num2 = 5\n",
    "num3 = 6\n",
    "\n",
    "if num1 < num2 :\n",
    "    if num1 < num3 :\n",
    "        print(num1, \"is the least number\")\n",
    "    else:\n",
    "        print(f'{num3} is least number')\n",
    "else:\n",
    "    if num2 < num3 :\n",
    "        print(f'{num2} is the least number')\n",
    "    else:\n",
    "        print(f'{num3} is the least number')"
   ]
  },
  {
   "cell_type": "markdown",
   "id": "e38cebd9",
   "metadata": {},
   "source": [
    "### Write a program to find the highest value in given 4 numbers."
   ]
  },
  {
   "cell_type": "code",
   "execution_count": 16,
   "id": "e750b27f",
   "metadata": {},
   "outputs": [
    {
     "name": "stdout",
     "output_type": "stream",
     "text": [
      "15 is highest number\n"
     ]
    }
   ],
   "source": [
    "num1 = 7\n",
    "num2 = 9 \n",
    "num3 = 15\n",
    "num4 = 8\n",
    "\n",
    "if num1 > num2 :\n",
    "    if num1 > num3 :\n",
    "        if num1 > num4 :\n",
    "            print(f'{num1} is highest number')\n",
    "        else:\n",
    "            print(f'{num4} is the highest number')\n",
    "    else:\n",
    "        print(f'{num3} is highest number')\n",
    "else:\n",
    "    if num2 > num3 :\n",
    "        if num2 > num4 :\n",
    "            print(f'{num2} is highest number')\n",
    "        else:\n",
    "            print(f'{num4} is highest number')\n",
    "    else:\n",
    "        print(f'{num3} is highest number')"
   ]
  },
  {
   "cell_type": "markdown",
   "id": "275dec1f",
   "metadata": {},
   "source": [
    "### Write a program to check the given number is divisible 2, 3 and 5."
   ]
  },
  {
   "cell_type": "code",
   "execution_count": 20,
   "id": "425bca50",
   "metadata": {},
   "outputs": [
    {
     "name": "stdout",
     "output_type": "stream",
     "text": [
      "17 is not divisible by 2, 3 or 5\n"
     ]
    }
   ],
   "source": [
    "num = 17\n",
    "\n",
    "if num % 2 == 0:\n",
    "    print(f'{num} is divisible by 2')\n",
    "elif num % 3 == 0:\n",
    "    print(f'{num} is divisible by 3')\n",
    "elif num % 5 == 0:\n",
    "    print(f'{num} is divisible by 5')\n",
    "else:\n",
    "    print(f'{num} is not divisible by 2, 3 or 5')"
   ]
  },
  {
   "cell_type": "markdown",
   "id": "aaebeaf5",
   "metadata": {},
   "source": [
    "### Write a program to print the highest factor for a number among 2, 3, 5, 7."
   ]
  },
  {
   "cell_type": "code",
   "execution_count": null,
   "id": "f0e82013",
   "metadata": {},
   "outputs": [
    {
     "name": "stdout",
     "output_type": "stream",
     "text": [
      "4 is divisible by 2\n"
     ]
    }
   ],
   "source": [
    "num = 21\n",
    "\n",
    "if num % 7 == 0:\n",
    "    print(f'{num} is divisible by 7')\n",
    "elif num % 5 == 0:\n",
    "    print(f'{num} is divisible by 5')\n",
    "elif num % 3 == 0:\n",
    "    print(f'{num} is divisible by 3')\n",
    "else: \n",
    "    print(f'{num} is divisible by 2')"
   ]
  },
  {
   "cell_type": "markdown",
   "id": "f1ccc5f6",
   "metadata": {},
   "source": [
    "### Write a program to print highest among three variable using elif block"
   ]
  },
  {
   "cell_type": "code",
   "execution_count": 23,
   "id": "42e58390",
   "metadata": {},
   "outputs": [
    {
     "name": "stdout",
     "output_type": "stream",
     "text": [
      "8 is the largest number\n"
     ]
    }
   ],
   "source": [
    "num1 = 6\n",
    "num2 = 8\n",
    "num3 = 7\n",
    "\n",
    "if num1 > num2 and num1 > num3:\n",
    "    print(f\"{num1} is the largest number\")\n",
    "elif num2 > num3:\n",
    "    print(f\"{num2} is the largest number\")\n",
    "else:\n",
    "    print(f\"{num3} is the largest number\")"
   ]
  },
  {
   "cell_type": "markdown",
   "id": "d273fa72",
   "metadata": {},
   "source": [
    "### Write a program to print highest among four variable using elif block"
   ]
  },
  {
   "cell_type": "code",
   "execution_count": 27,
   "id": "ff890bea",
   "metadata": {},
   "outputs": [
    {
     "name": "stdout",
     "output_type": "stream",
     "text": [
      "8 is the largest number\n"
     ]
    }
   ],
   "source": [
    "num1 = 6\n",
    "num2 = 8\n",
    "num4 = 5\n",
    "num3 = 7\n",
    "\n",
    "if num1 > num2 and num1 > num3 and num1 > num4:\n",
    "    print(f\"{num1} is the largest number\")\n",
    "elif num2 > num3 and num2 > num4 :\n",
    "    print(f\"{num2} is the largest number\")\n",
    "elif num3 > num4:\n",
    "    print(f\"{num3} is the largest number\")\n",
    "else:\n",
    "    print(f\"{num4} is the largest number\")"
   ]
  },
  {
   "cell_type": "markdown",
   "id": "eb709472",
   "metadata": {},
   "source": []
  }
 ],
 "metadata": {
  "kernelspec": {
   "display_name": "base",
   "language": "python",
   "name": "python3"
  },
  "language_info": {
   "codemirror_mode": {
    "name": "ipython",
    "version": 3
   },
   "file_extension": ".py",
   "mimetype": "text/x-python",
   "name": "python",
   "nbconvert_exporter": "python",
   "pygments_lexer": "ipython3",
   "version": "3.13.5"
  }
 },
 "nbformat": 4,
 "nbformat_minor": 5
}
